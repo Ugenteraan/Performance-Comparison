{
 "cells": [
  {
   "cell_type": "code",
   "execution_count": 1,
   "metadata": {},
   "outputs": [],
   "source": [
    "import h5py\n",
    "import idx2numpy as idx2np #to read the idx files\n",
    "import glob\n",
    "import os\n",
    "import numpy as np"
   ]
  },
  {
   "cell_type": "code",
   "execution_count": 2,
   "metadata": {},
   "outputs": [],
   "source": [
    "train_files    = [file for file in glob.glob('MNIST_idx/train-*')] #first elem is train images path and second elem is train labels path\n",
    "test_files     = [file for file in glob.glob('MNIST_idc/t10k-*')] #first elem is test images path and second elem is test labels path\n",
    "save_file_path = 'MNIST_hdf5/'"
   ]
  },
  {
   "cell_type": "code",
   "execution_count": 3,
   "metadata": {},
   "outputs": [
    {
     "name": "stdout",
     "output_type": "stream",
     "text": [
      "Directory already exists!\n"
     ]
    }
   ],
   "source": [
    "#creates the directory if it does not exist yet\n",
    "try:\n",
    "    os.mkdir(save_file_path)\n",
    "    print(\"Directory is created successfully!\")\n",
    "except FileExistsError:\n",
    "    print(\"Directory already exists!\")"
   ]
  },
  {
   "cell_type": "code",
   "execution_count": 4,
   "metadata": {},
   "outputs": [],
   "source": [
    "#MEMORY EXTENSIVE!\n",
    "#both line loads the image and labels as np arrays into the memory\n",
    "load_training_images = idx2np.convert_from_file(train_files[0])\n",
    "load_training_labels = idx2np.convert_from_file(train_files[1])"
   ]
  },
  {
   "cell_type": "markdown",
   "metadata": {},
   "source": [
    "#### HDF5, Hierarchical Data Format, consist of two types of objects. "
   ]
  },
  {
   "cell_type": "markdown",
   "metadata": {},
   "source": [
    "#### 1) Datasets ; 2) Groups\n",
    "Datasets are multidimensional arrays and group consists of datasets **OR** other groups. Within a dataset, the dimensions and the type of the array have to be uniform."
   ]
  },
  {
   "cell_type": "code",
   "execution_count": null,
   "metadata": {},
   "outputs": [],
   "source": [
    "def single_hdf5(image, filename, label):\n",
    "    '''Stores a single image to an hfd5 file.\n",
    "       Parameters\n",
    "       ----------\n",
    "       image    : numpy array \n",
    "       filename : name of the file\n",
    "       label    : label of the training image\n",
    "    '''\n",
    "    file = h5py.File(save_file_path + filename + '.h5', 'w') #create a new hdf5 file\n",
    "    \n",
    "    #since an HDF5 file can contain more than one dataset, we store the image array and the label array in one file.\n",
    "    dataset  = file.create_dataset(\"image\", np.shape(image), h5py.h5t.STD_U8BE, data=image)\n",
    "    meta_set = file.create_dataset(\"meta\", np.shape(label), h5py.h5t.STD_U8BE, data=label) \n",
    "    file.close()\n",
    "    "
   ]
  },
  {
   "cell_type": "markdown",
   "metadata": {},
   "source": [
    "#### In saving the images as .png to the disk, a function that is created to store a single file can be repeated until all the images is stored. However, in HDF5, we can store them all at one time."
   ]
  },
  {
   "cell_type": "code",
   "execution_count": null,
   "metadata": {},
   "outputs": [],
   "source": [
    "def many_hdf5(images, labels):\n",
    "    '''Stores multiple images to HDF5.\n",
    "       Parameters\n",
    "       ----------\n",
    "       images : numpy array of multiple images\n",
    "       labels : corresponding labels \n",
    "    '''\n",
    "    num_images = images.shape[0]\n",
    "    \n",
    "    file = h5py.File(save_file_path + filename + '.h5', 'w')\n",
    "    \n",
    "    dataset = file.create_dataset(\"images\", np.shape(images), h5py.h5t.STD_U8BE, data=images)\n",
    "    meta_set = file.create_dataset(\"meta\", np.shape(labels), h5py.h5t.STD_U8BE, data=labels)\n",
    "    \n",
    "    file.close()"
   ]
  },
  {
   "cell_type": "code",
   "execution_count": null,
   "metadata": {},
   "outputs": [],
   "source": [
    "many_hdf5(load_training_images, load_training_labels)"
   ]
  }
 ],
 "metadata": {
  "kernelspec": {
   "display_name": "nasa",
   "language": "python",
   "name": "nasa"
  },
  "language_info": {
   "codemirror_mode": {
    "name": "ipython",
    "version": 3
   },
   "file_extension": ".py",
   "mimetype": "text/x-python",
   "name": "python",
   "nbconvert_exporter": "python",
   "pygments_lexer": "ipython3",
   "version": "3.5.2"
  }
 },
 "nbformat": 4,
 "nbformat_minor": 2
}
