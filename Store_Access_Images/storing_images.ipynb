{
 "cells": [
  {
   "cell_type": "markdown",
   "metadata": {},
   "source": [
    "# Storing idx formatted images on disk as PNG and HDF5 file formats"
   ]
  },
  {
   "cell_type": "markdown",
   "metadata": {},
   "source": [
    "## Comparison between storing the images using PNG vs using HDF5 "
   ]
  },
  {
   "cell_type": "markdown",
   "metadata": {},
   "source": [
    "### Load into numpy arrays "
   ]
  },
  {
   "cell_type": "code",
   "execution_count": 1,
   "metadata": {},
   "outputs": [],
   "source": [
    "import idx2numpy as idx2np #to read the idx files\n",
    "import numpy as np\n",
    "import glob\n",
    "import timeit\n",
    "import os\n",
    "import png\n",
    "import csv\n",
    "import h5py\n",
    "import matplotlib.pyplot as plt"
   ]
  },
  {
   "cell_type": "code",
   "execution_count": 2,
   "metadata": {},
   "outputs": [],
   "source": [
    "train_files    = [file for file in glob.glob('MNIST_idx/train-*')] #first elem is train images path and second elem is train labels path\n",
    "test_files     = [file for file in glob.glob('MNIST_idc/t10k-*')] #first elem is test images path and second elem is test labels path\n",
    "png_savePath   = 'MNIST_png/'\n",
    "hdf5_savePath  = 'MNIST_hdf5/'"
   ]
  },
  {
   "cell_type": "code",
   "execution_count": 3,
   "metadata": {},
   "outputs": [],
   "source": [
    "#MEMORY EXTENSIVE!\n",
    "#both line loads the image and labels as np arrays into the memory\n",
    "load_training_images = idx2np.convert_from_file(train_files[0])\n",
    "load_training_labels = idx2np.convert_from_file(train_files[1])\n",
    "total_images         = load_training_images.shape[0] #get the total number of images"
   ]
  },
  {
   "cell_type": "markdown",
   "metadata": {},
   "source": [
    "### PNG and HDF5 comparison"
   ]
  },
  {
   "cell_type": "code",
   "execution_count": 4,
   "metadata": {},
   "outputs": [],
   "source": [
    "RUN_PNG  = True\n",
    "RUN_HDF5 = True\n",
    "\n",
    "#chunks of image sizes to be tested\n",
    "test_imageSize = [total_images//5, 2*(total_images//5), 3*(total_images//5), 4*(total_images//5), total_images] \n",
    "timeit_number = 50"
   ]
  },
  {
   "cell_type": "markdown",
   "metadata": {},
   "source": [
    "#### PNG "
   ]
  },
  {
   "cell_type": "code",
   "execution_count": 5,
   "metadata": {},
   "outputs": [
    {
     "name": "stdout",
     "output_type": "stream",
     "text": [
      "Directory created successfully!\n"
     ]
    }
   ],
   "source": [
    "if RUN_PNG:\n",
    "    #creates the directory if it does not exist yet\n",
    "    try:\n",
    "        os.mkdir(png_savePath)\n",
    "        print(\"Directory created successfully!\")\n",
    "    except FileExistsError:\n",
    "        print(\"Directory already exists\")"
   ]
  },
  {
   "cell_type": "code",
   "execution_count": 6,
   "metadata": {},
   "outputs": [],
   "source": [
    "def save_file_png(arr, path, filename):\n",
    "    '''Stores a single numpy array as a png file on disk\n",
    "       Parameters\n",
    "       -----------\n",
    "       arr       : image numpy array                          | numpy array     \n",
    "       path      : path to the disk to write the image file   | string\n",
    "       filename  : name of the file to be saved               | string\n",
    "    '''\n",
    "    png.from_array(arr, mode='L').save(path+filename)"
   ]
  },
  {
   "cell_type": "code",
   "execution_count": 7,
   "metadata": {},
   "outputs": [],
   "source": [
    "def labels_csv(path, filename, label):\n",
    "    '''Saves the path of an image and the corresponding label as a csv file\n",
    "       Parameters\n",
    "       ----------\n",
    "       path      : path of the image file | string\n",
    "       filename  : name of the file       | string\n",
    "       label     : label of the image     | integer\n",
    "    '''\n",
    "    #creates a csv file and write the head if the file does not exist yet.\n",
    "    \n",
    "    if not os.path.isfile(path + 'info.csv'): #returns False if the file does not exist\n",
    "        \n",
    "         with open(path + 'info.csv', 'a') as csvFile:\n",
    "            \n",
    "            writer = csv.writer(csvFile)\n",
    "            row_head = ['File_path', 'Label'] #head\n",
    "            writer.writerow(row_head)\n",
    "\n",
    "    data_row = [path + filename, str(label)] #row to append\n",
    "    \n",
    "    with open(path + 'info.csv', 'a') as csvFile: #open the csv file in append mode\n",
    "        \n",
    "        writer = csv.writer(csvFile) \n",
    "        writer.writerow(data_row)  "
   ]
  },
  {
   "cell_type": "code",
   "execution_count": 8,
   "metadata": {},
   "outputs": [],
   "source": [
    "def PNG_write(file_number):\n",
    "    '''Write 'file_number' files to png on disk\n",
    "       Parameter \n",
    "       --------\n",
    "       file_number : number of files to be written | integer\n",
    "    '''\n",
    "    for counter in range(file_number):\n",
    "    \n",
    "        filename  = str(counter) \n",
    "        arr       = load_training_images[counter]\n",
    "        label     = load_training_labels[counter]\n",
    "        path      = png_savePath\n",
    "\n",
    "        save_file_png(arr=arr, path=path, filename=filename) #write the image array as png to disk\n",
    "        labels_csv(label=label, filename=filename, path=path) #write the label array to csv on disk"
   ]
  },
  {
   "cell_type": "code",
   "execution_count": 9,
   "metadata": {},
   "outputs": [],
   "source": [
    "time_png = []\n",
    "\n",
    "if RUN_PNG:\n",
    "    \n",
    "    for x in test_imageSize:\n",
    "        #append the execution time values into the list\n",
    "        time_png.append(timeit.timeit(\"PNG_write(file_num)\", setup=\"file_num=int(x)\", number=timeit_number, globals=globals())/timeit_number)"
   ]
  },
  {
   "cell_type": "markdown",
   "metadata": {},
   "source": [
    "#### HDF5\n",
    "HDF5, Hierarchical Data Format, consists of two types of objects."
   ]
  },
  {
   "cell_type": "markdown",
   "metadata": {},
   "source": [
    "**1) Datasets ; 2) Groups**"
   ]
  },
  {
   "cell_type": "markdown",
   "metadata": {},
   "source": [
    "\n",
    "Datasets are multidimensional arrays and group consists of datasets **OR** other groups. Within a dataset, the dimensions and the type of the array have to be uniform."
   ]
  },
  {
   "cell_type": "code",
   "execution_count": 10,
   "metadata": {},
   "outputs": [
    {
     "name": "stdout",
     "output_type": "stream",
     "text": [
      "Directory created successfully!\n"
     ]
    }
   ],
   "source": [
    "if RUN_HDF5:\n",
    "    #creates the directory if it does not exist yet\n",
    "    try:\n",
    "        os.mkdir(hdf5_savePath)\n",
    "        print(\"Directory created successfully!\")\n",
    "    except FileExistsError:\n",
    "        print(\"Directory already exists\")"
   ]
  },
  {
   "cell_type": "markdown",
   "metadata": {},
   "source": [
    "In saving the images as .png to the disk, a function that is created to store a single file can be repeated until all the images are stored. However, in HDF5, we can store them all at once."
   ]
  },
  {
   "cell_type": "code",
   "execution_count": 11,
   "metadata": {},
   "outputs": [],
   "source": [
    "def many_hdf5(file_num):\n",
    "    '''Store multiple images to HDF5.\n",
    "       Parameters\n",
    "       ----------\n",
    "       file_num : number of files to be written | integer\n",
    "    '''\n",
    "    images = load_training_images[:file_num]\n",
    "    labels = load_training_labels[:file_num]\n",
    "    \n",
    "    file = h5py.File(hdf5_savePath + str(file_num) + '.h5', 'w') #open an hdf5 file\n",
    "    \n",
    "    dataset_1 = file.create_dataset(\"images\", np.shape(images), h5py.h5t.STD_U8BE, data=images) \n",
    "    dataset_2 = file.create_dataset(\"meta\", np.shape(labels), h5py.h5t.STD_U8BE, data=labels)\n",
    "    \n",
    "    file.close()"
   ]
  },
  {
   "cell_type": "code",
   "execution_count": 12,
   "metadata": {},
   "outputs": [],
   "source": [
    "time_hdf5 = []\n",
    "\n",
    "if RUN_HDF5:\n",
    "\n",
    "    for x in test_imageSize:\n",
    "        #append the execution time values into the list\n",
    "        time_hdf5.append(timeit.timeit(\"many_hdf5(file_num)\", setup=\"file_num=int(x)\", number=timeit_number, globals=globals())/timeit_number)"
   ]
  },
  {
   "cell_type": "markdown",
   "metadata": {},
   "source": [
    "### Comparison Graph"
   ]
  },
  {
   "cell_type": "code",
   "execution_count": 13,
   "metadata": {},
   "outputs": [],
   "source": [
    "x_axis      = test_imageSize\n",
    "y_axis_png  = time_png\n",
    "y_axis_hdf5 = time_hdf5"
   ]
  },
  {
   "cell_type": "code",
   "execution_count": 14,
   "metadata": {},
   "outputs": [
    {
     "data": {
      "image/png": "[encoded data removed]",
      "text/plain": [
       "<Figure size 432x288 with 1 Axes>"
      ]
     },
     "metadata": {
      "needs_background": "light"
     },
     "output_type": "display_data"
    }
   ],
   "source": [
    "#Graph plotting\n",
    "plt.plot(x_axis, y_axis_png, 'r--', label='PNG')\n",
    "plt.plot(x_axis, y_axis_hdf5, 'g--', label='HDF5')\n",
    "plt.title(\"PNG vs HDF5 storing time\")\n",
    "plt.ylabel(\"Time (s)\")\n",
    "plt.xlabel(\"No. of Images\")\n",
    "plt.legend()\n",
    "plt.show()"
   ]
  }
 ],
 "metadata": {
  "kernelspec": {
   "display_name": "nasa",
   "language": "python",
   "name": "nasa"
  },
  "language_info": {
   "codemirror_mode": {
    "name": "ipython",
    "version": 3
   },
   "file_extension": ".py",
   "mimetype": "text/x-python",
   "name": "python",
   "nbconvert_exporter": "python",
   "pygments_lexer": "ipython3",
   "version": "3.5.2"
  }
 },
 "nbformat": 4,
 "nbformat_minor": 2
}
