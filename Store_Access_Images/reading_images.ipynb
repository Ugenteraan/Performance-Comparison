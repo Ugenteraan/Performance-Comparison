{
 "cells": [
  {
   "cell_type": "markdown",
   "metadata": {},
   "source": [
    "# Reading image files and storing into numpy array"
   ]
  },
  {
   "cell_type": "markdown",
   "metadata": {},
   "source": [
    "## Comparison between using _OpenCV_, _Matplotlib_, _Pillow_ and _HDF5_ "
   ]
  },
  {
   "cell_type": "code",
   "execution_count": 1,
   "metadata": {},
   "outputs": [],
   "source": [
    "import csv\n",
    "import time\n",
    "import numpy as np\n",
    "import timeit\n",
    "import cv2\n",
    "import matplotlib.pyplot as plt\n",
    "import h5py\n",
    "from PIL import Image"
   ]
  },
  {
   "cell_type": "code",
   "execution_count": 2,
   "metadata": {},
   "outputs": [],
   "source": [
    "RUN_CV2    = True\n",
    "RUN_PLT    = True\n",
    "RUN_HDF5   = True\n",
    "RUN_PILLOW = True"
   ]
  },
  {
   "cell_type": "code",
   "execution_count": 3,
   "metadata": {},
   "outputs": [],
   "source": [
    "csv_file_path   = 'MNIST_png/info.csv' \n",
    "hdf5_dir        = 'MNIST_hdf5/'\n",
    "timeit_number   = 10\n",
    "total_images    = 60000\n",
    "\n",
    "#chunks of image sizes to be tested\n",
    "test_imageSize  = [total_images//5, 2*(total_images//5), 3*(total_images//5), 4*(total_images//5), total_images] "
   ]
  },
  {
   "cell_type": "code",
   "execution_count": 4,
   "metadata": {},
   "outputs": [],
   "source": [
    "def read_csv(csv_file_path = csv_file_path):\n",
    "    '''Reads the csv file and returns a list with image names and labels\n",
    "       Parameter\n",
    "       ---------\n",
    "       csv_file_path : path to the csv file | string\n",
    "    '''\n",
    "    file_label_list = list() #initialize list\n",
    "\n",
    "    with open(csv_file_path) as csvFile: #open the csv file\n",
    "\n",
    "        reader = csv.reader(csvFile)    \n",
    "        line_count = 0 #counter\n",
    "\n",
    "        for row in reader: \n",
    "\n",
    "            if line_count == 0: #first row\n",
    "\n",
    "                line_count += 1\n",
    "                print(\"Column names are %s and %s \"%(str(row[0]), str(row[1])))\n",
    "\n",
    "            else:\n",
    "\n",
    "                file_label_list.append(row) #store the path and label in the 'file_label_list' as lists\n",
    "                line_count += 1 \n",
    "    \n",
    "    return (file_label_list)"
   ]
  },
  {
   "cell_type": "code",
   "execution_count": 5,
   "metadata": {},
   "outputs": [
    {
     "name": "stdout",
     "output_type": "stream",
     "text": [
      "Column names are File_path and Label \n"
     ]
    }
   ],
   "source": [
    "file_label, total_files = None, None\n",
    "if RUN_CV2 or RUN_PLT:\n",
    "    ''' For reading the images using OpenCV and Matplotlib, the file path and label is saved into a list first\n",
    "        by reading the csv file.\n",
    "    '''\n",
    "    file_label = read_csv(csv_file_path)"
   ]
  },
  {
   "cell_type": "markdown",
   "metadata": {},
   "source": [
    "### Using _OpenCV_"
   ]
  },
  {
   "cell_type": "code",
   "execution_count": 6,
   "metadata": {},
   "outputs": [],
   "source": [
    "def read_cv2(filepath):\n",
    "    '''Reads an image using cv2 in grayscale mode.\n",
    "       Returns the image in np array.\n",
    "       Parameter\n",
    "       ---------\n",
    "       filepath : an image file's path | string\n",
    "    '''\n",
    "    return cv2.imread(filepath, 0) #read the image in grayscale mode"
   ]
  },
  {
   "cell_type": "code",
   "execution_count": 7,
   "metadata": {},
   "outputs": [],
   "source": [
    "#function to read the images using opencv\n",
    "def run_cv2_code(file_num):\n",
    "    \n",
    "    np_arr = np.empty([file_num, 28, 28]) #create empty array of shape (60000,28,28) \n",
    "    \n",
    "    for i in range(file_num):\n",
    "        np_arr[i] = read_cv2(file_label[i][0]) #assign the numpy array of specific index with the image array\n",
    "    \n",
    "    return np_arr"
   ]
  },
  {
   "cell_type": "code",
   "execution_count": 8,
   "metadata": {},
   "outputs": [],
   "source": [
    "time_cv2 = []\n",
    "\n",
    "if RUN_CV2:\n",
    "    \n",
    "    for x in test_imageSize:\n",
    "        #append the execution time values into the list\n",
    "        time_cv2.append(timeit.timeit(\"run_cv2_code(file_num)\",setup=\"file_num=int(x)\", number = timeit_number, globals=globals())/timeit_number)"
   ]
  },
  {
   "cell_type": "markdown",
   "metadata": {},
   "source": [
    "### Using _Matplotlib_"
   ]
  },
  {
   "cell_type": "code",
   "execution_count": 9,
   "metadata": {},
   "outputs": [],
   "source": [
    "def read_plt(filepath):\n",
    "    '''Reads an image using matplotlib.\n",
    "       Returns the image in np array format.\n",
    "       Parameter\n",
    "       ---------\n",
    "       flepath : an image file's path\n",
    "    '''\n",
    "    return plt.imread(filepath)"
   ]
  },
  {
   "cell_type": "code",
   "execution_count": 10,
   "metadata": {},
   "outputs": [],
   "source": [
    "def run_plt_code(file_num):\n",
    "    \n",
    "    np_arr = np.empty([file_num, 28, 28]) #create empty array of shape (60000,28,28)\n",
    "    \n",
    "    for i in range(file_num):\n",
    "        np_arr[i] = read_plt(file_label[i][0]) #assign the numpy array of specific index with the image array\n",
    "    \n",
    "    return np_arr"
   ]
  },
  {
   "cell_type": "code",
   "execution_count": 11,
   "metadata": {},
   "outputs": [],
   "source": [
    "time_plt = []\n",
    "\n",
    "if RUN_PLT:\n",
    "    \n",
    "    for x in test_imageSize:\n",
    "        time_plt.append(timeit.timeit(\"run_plt_code(filenum)\", setup=\"filenum=int(x)\", number = timeit_number, globals=globals())/timeit_number)"
   ]
  },
  {
   "cell_type": "markdown",
   "metadata": {},
   "source": [
    "### Using _Pillow_"
   ]
  },
  {
   "cell_type": "code",
   "execution_count": 12,
   "metadata": {},
   "outputs": [],
   "source": [
    "def read_pillow(filepath):\n",
    "    '''Reads an image using Pillow\n",
    "       Returns the image in np array format.\n",
    "       Parameter\n",
    "       ---------\n",
    "       filepath : an image file's path\n",
    "    '''\n",
    "    im = Image.open(filepath)\n",
    "    return np.array(im)"
   ]
  },
  {
   "cell_type": "code",
   "execution_count": 13,
   "metadata": {},
   "outputs": [],
   "source": [
    "def run_pillow_code(file_num):\n",
    "    \n",
    "    np_arr = np.empty([file_num, 28, 28]) #create empty array of shape (60000,28,28)\n",
    "    \n",
    "    for i in range(file_num):\n",
    "        np_arr[i] = read_pillow(file_label[i][0]) #assign the numpy array of specific index with the image array\n",
    "    \n",
    "    return np_arr"
   ]
  },
  {
   "cell_type": "code",
   "execution_count": 14,
   "metadata": {},
   "outputs": [],
   "source": [
    "time_pillow = []\n",
    "\n",
    "if RUN_PILLOW:\n",
    "    \n",
    "    for x in test_imageSize:\n",
    "        time_pillow.append(timeit.timeit(\"run_pillow_code(filenum)\", setup=\"filenum=int(x)\", number = timeit_number, globals=globals())/timeit_number)"
   ]
  },
  {
   "cell_type": "markdown",
   "metadata": {},
   "source": [
    "### Using _HDF5_"
   ]
  },
  {
   "cell_type": "code",
   "execution_count": 15,
   "metadata": {},
   "outputs": [],
   "source": [
    "def readImages_hdf5(filename):\n",
    "    '''Reads hdf5 file.\n",
    "       Parameter\n",
    "       ---------\n",
    "       filename : the name of the hdf5 file\n",
    "    '''\n",
    "    file = h5py.File(hdf5_dir + filename + '.h5', \"r+\") #open the hdf5 file.\n",
    "    \n",
    "    hdf5_images = np.array(file[\"/images\"]).astype(\"uint8\") #read the images as np array\n",
    "    \n",
    "    return hdf5_images"
   ]
  },
  {
   "cell_type": "code",
   "execution_count": 16,
   "metadata": {},
   "outputs": [],
   "source": [
    "time_hdf5 = []\n",
    "\n",
    "if RUN_HDF5:\n",
    "    \n",
    "    for x in test_imageSize:\n",
    "        time_hdf5.append(timeit.timeit(\"readImages_hdf5(filename)\", setup=\"filename=str(x)\", number = timeit_number, globals=globals())/timeit_number)\n",
    "    "
   ]
  },
  {
   "cell_type": "markdown",
   "metadata": {},
   "source": [
    "### Comparison Graph"
   ]
  },
  {
   "cell_type": "code",
   "execution_count": 17,
   "metadata": {},
   "outputs": [],
   "source": [
    "x_axis        = test_imageSize\n",
    "y_axis_cv2    = time_cv2\n",
    "y_axis_plt    = time_plt\n",
    "y_axis_pillow = time_pillow\n",
    "y_axis_hdf5   = time_hdf5"
   ]
  },
  {
   "cell_type": "code",
   "execution_count": 18,
   "metadata": {},
   "outputs": [
    {
     "data": {
      "image/png": "[encoded data removed]",
      "text/plain": [
       "<Figure size 432x288 with 1 Axes>"
      ]
     },
     "metadata": {
      "needs_background": "light"
     },
     "output_type": "display_data"
    }
   ],
   "source": [
    "#Graph plotting\n",
    "plt.plot(x_axis, y_axis_cv2,    'r--', label='OpenCV')\n",
    "plt.plot(x_axis, y_axis_plt,    'b--', label='Matplotlib')\n",
    "plt.plot(x_axis, y_axis_hdf5,   'g--', label='HDF5')\n",
    "plt.plot(x_axis, y_axis_pillow, 'y--', label='Pillow')\n",
    "plt.title(\"OpenCV vs Matplotlib vs Pillow vs HDF5\")\n",
    "plt.ylabel(\"Time (s)\")\n",
    "plt.xlabel(\"No. of images\")\n",
    "plt.legend()\n",
    "plt.show()"
   ]
  },
  {
   "cell_type": "code",
   "execution_count": 19,
   "metadata": {},
   "outputs": [
    {
     "data": {
      "text/plain": [
       "[0.015979079599992473,\n",
       " 0.026796753500002525,\n",
       " 0.043255645499993986,\n",
       " 0.07329162959999849,\n",
       " 0.08422466659999372]"
      ]
     },
     "execution_count": 19,
     "metadata": {},
     "output_type": "execute_result"
    }
   ],
   "source": [
    "time_hdf5"
   ]
  }
 ],
 "metadata": {
  "kernelspec": {
   "display_name": "nasa",
   "language": "python",
   "name": "nasa"
  },
  "language_info": {
   "codemirror_mode": {
    "name": "ipython",
    "version": 3
   },
   "file_extension": ".py",
   "mimetype": "text/x-python",
   "name": "python",
   "nbconvert_exporter": "python",
   "pygments_lexer": "ipython3",
   "version": "3.5.2"
  }
 },
 "nbformat": 4,
 "nbformat_minor": 2
}
