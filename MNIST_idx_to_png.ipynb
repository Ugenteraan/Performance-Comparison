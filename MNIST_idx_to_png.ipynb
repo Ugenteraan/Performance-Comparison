{
 "cells": [
  {
   "cell_type": "markdown",
   "metadata": {},
   "source": [
    "## This script is used to write the MNIST images to disk as png files from idx files"
   ]
  },
  {
   "cell_type": "code",
   "execution_count": 1,
   "metadata": {},
   "outputs": [],
   "source": [
    "import idx2numpy as idx2np #to read the idx files\n",
    "import png                 #to write the png files from np arrays\n",
    "import glob\n",
    "import csv\n",
    "import time\n",
    "import os"
   ]
  },
  {
   "cell_type": "code",
   "execution_count": 2,
   "metadata": {},
   "outputs": [],
   "source": [
    "train_files    = [file for file in glob.glob('MNIST_idx/train-*')] #first elem is train images path and second elem is train labels path\n",
    "test_files     = [file for file in glob.glob('MNIST_idc/t10k-*')] #first elem is test images path and second elem is test labels path\n",
    "save_file_path = 'MNIST_images/'"
   ]
  },
  {
   "cell_type": "code",
   "execution_count": 3,
   "metadata": {},
   "outputs": [
    {
     "name": "stdout",
     "output_type": "stream",
     "text": [
      "Directory is created successfully!\n"
     ]
    }
   ],
   "source": [
    "#creates the directory if it does not exist yet\n",
    "try:\n",
    "    os.mkdir(save_file_path)\n",
    "    print(\"Directory is created successfully!\")\n",
    "except FileExistsError:\n",
    "    print(\"Directory already exists!\")"
   ]
  },
  {
   "cell_type": "code",
   "execution_count": 4,
   "metadata": {},
   "outputs": [],
   "source": [
    "def save_file_png(arr, path, filename):\n",
    "    '''Stores a single numpy array as a png file on disk\n",
    "       Parameters\n",
    "       -----------\n",
    "       arr       : image numpy array \n",
    "       path      : path to the disk to write the image file\n",
    "       filename  : name of the file to be saved\n",
    "    '''\n",
    "    png.from_array(arr, mode='L').save(path+filename)"
   ]
  },
  {
   "cell_type": "code",
   "execution_count": 5,
   "metadata": {},
   "outputs": [],
   "source": [
    "def labels_csv(path, filename, label):\n",
    "    '''Saves the path of an image and the corresponding label as a csv file\n",
    "       Parameters\n",
    "       ----------\n",
    "       path      : path of the image file\n",
    "       filename  : name of the file\n",
    "       label     : label of the image\n",
    "    '''\n",
    "    row = [path + filename, str(label)] #row to append\n",
    "    \n",
    "    with open(path+'labels.csv', 'a') as csvFile: #open the csv file in append mode\n",
    "        \n",
    "        writer = csv.writer(csvFile) \n",
    "        writer.writerow(row)       "
   ]
  },
  {
   "cell_type": "code",
   "execution_count": 6,
   "metadata": {},
   "outputs": [],
   "source": [
    "#MEMORY EXTENSIVE!\n",
    "#both line loads the image and labels as np arrays into the memory\n",
    "load_training_images = idx2np.convert_from_file(train_files[0])\n",
    "load_training_labels = idx2np.convert_from_file(train_files[1])"
   ]
  },
  {
   "cell_type": "code",
   "execution_count": 7,
   "metadata": {},
   "outputs": [],
   "source": [
    "#iterate through all the data in the numpy array\n",
    "start_time = time.time() \n",
    "\n",
    "for counter in range(load_training_images.shape[0]):\n",
    "    \n",
    "    filename  = str(counter) \n",
    "    arr       = load_training_images[counter]\n",
    "    label     = load_training_labels[counter]\n",
    "    path      = save_file_path\n",
    "    \n",
    "    save_file_png(arr=arr, path=path, filename=filename) #write the image array as png to disk\n",
    "    labels_csv(label=label, filename=filename, path=path) #write the label array to csv on disk\n",
    "    \n",
    "end_time = time.time()\n",
    "total_time_taken = end_time - start_time"
   ]
  },
  {
   "cell_type": "code",
   "execution_count": 10,
   "metadata": {},
   "outputs": [
    {
     "name": "stdout",
     "output_type": "stream",
     "text": [
      "Write successful, total time taken is 14.8007\n"
     ]
    }
   ],
   "source": [
    "print(\"Write successful, total time taken is %g seconds.\"%(total_time_taken))"
   ]
  },
  {
   "cell_type": "code",
   "execution_count": null,
   "metadata": {},
   "outputs": [],
   "source": []
  }
 ],
 "metadata": {
  "kernelspec": {
   "display_name": "nasa",
   "language": "python",
   "name": "nasa"
  },
  "language_info": {
   "codemirror_mode": {
    "name": "ipython",
    "version": 3
   },
   "file_extension": ".py",
   "mimetype": "text/x-python",
   "name": "python",
   "nbconvert_exporter": "python",
   "pygments_lexer": "ipython3",
   "version": "3.5.2"
  }
 },
 "nbformat": 4,
 "nbformat_minor": 2
}
