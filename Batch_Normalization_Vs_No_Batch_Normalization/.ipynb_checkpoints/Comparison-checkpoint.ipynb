{
 "cells": [
  {
   "cell_type": "code",
   "execution_count": 1,
   "metadata": {},
   "outputs": [],
   "source": [
    "import h5py\n",
    "import tensorflow as tf \n",
    "import numpy as np\n",
    "import matplotlib.pyplot as plt"
   ]
  },
  {
   "cell_type": "markdown",
   "metadata": {},
   "source": [
    "### Parameters"
   ]
  },
  {
   "cell_type": "code",
   "execution_count": 2,
   "metadata": {},
   "outputs": [],
   "source": [
    "learning_rate   = 1e-3\n",
    "epoch           = 7\n",
    "batch_size      = 400 \n",
    "filename        = './60000'\n",
    "loss_BN         = []\n",
    "acc_BN          = []\n",
    "loss_noBN       = []\n",
    "acc_noBN        = []"
   ]
  },
  {
   "cell_type": "markdown",
   "metadata": {},
   "source": [
    "### Prepare MNIST data"
   ]
  },
  {
   "cell_type": "code",
   "execution_count": 3,
   "metadata": {},
   "outputs": [],
   "source": [
    "def readImages_hdf5(filename):\n",
    "    '''Reads hdf5 file.\n",
    "       Parameter\n",
    "       ---------\n",
    "       filename : the name of the hdf5 file\n",
    "    '''\n",
    "    file = h5py.File( filename + '.h5', \"r+\") #open the hdf5 file.\n",
    "    \n",
    "    hdf5_images = np.array(file[\"/images\"]).astype(\"uint8\") #read the images as np array\n",
    "    hdf5_labels = np.array(file[\"/meta\"]).astype(\"uint8\")\n",
    "    \n",
    "    return hdf5_images, hdf5_labels"
   ]
  },
  {
   "cell_type": "code",
   "execution_count": 4,
   "metadata": {},
   "outputs": [],
   "source": [
    "def one_hot_encoder(label_arr):\n",
    "    '''Returns the given MNIST labels from np arrays of integers to np array of one hot labels.\n",
    "       Parameter\n",
    "       ---------\n",
    "       label_arr : np array of MNIST integer labels\n",
    "    '''\n",
    "    total_labels  = label_arr.shape[0] #get the total number of labels\n",
    "    one_hot_label = np.zeros([total_labels, 10]) #10 for num of classes in MNIST\n",
    "    \n",
    "    for i in range(label_arr.shape[0]): #loop through all the labels\n",
    "        \n",
    "        one_hot_label[i][int(label_arr[i])] = 1.0 #the label value will be marked as 1.0 at that specific index\n",
    "        \n",
    "    return one_hot_label #returns the np one-hot label "
   ]
  },
  {
   "cell_type": "code",
   "execution_count": 5,
   "metadata": {},
   "outputs": [],
   "source": [
    "images, labels = readImages_hdf5(filename)\n",
    "labels = one_hot_encoder(labels)\n",
    "images = images.reshape(images.shape[0],28, 28, 1) #reshape into a tensor of rank 4 for CNN filtering"
   ]
  },
  {
   "cell_type": "markdown",
   "metadata": {},
   "source": [
    "### Graph for Model with Batch Normalization"
   ]
  },
  {
   "cell_type": "code",
   "execution_count": 6,
   "metadata": {},
   "outputs": [],
   "source": [
    "class Model_with_BN():\n",
    "           \n",
    "    \n",
    "    def __init__(self):\n",
    "    \n",
    "        self.x = tf.placeholder(tf.float32, [None, 28,28,1], name='inputs')\n",
    "        self.y = tf.placeholder(tf.float32, [None, 10], name='targets')\n",
    "        self.is_train = tf.placeholder(tf.bool, name='is_train')\n",
    "\n",
    "        conv1 = tf.contrib.layers.conv2d(self.x, num_outputs=64, kernel_size=3, stride=1,padding='SAME', activation_fn=None)\n",
    "    \n",
    "        #batch normalization before the activation function but after the linear transformation.\n",
    "        conv1_norm = tf.layers.batch_normalization(conv1, training=self.is_train)\n",
    "        conv1_actv = tf.nn.relu(conv1_norm)\n",
    "\n",
    "        conv2 = tf.contrib.layers.conv2d(conv1_actv, num_outputs=64, kernel_size=3, stride=2,padding='SAME', activation_fn=None)\n",
    "        \n",
    "        #batch normalization before the activation function but after the linear transformation.\n",
    "        conv2_norm = tf.layers.batch_normalization(conv2, training=self.is_train)\n",
    "        \n",
    "        conv2_actv = tf.nn.relu(conv2_norm)\n",
    "        \n",
    "\n",
    "        output_size = 14*14*64\n",
    "        output_layer = tf.reshape(conv2_actv, (-1, output_size))\n",
    "\n",
    "\n",
    "        W2 = tf.Variable(tf.truncated_normal([output_size, 100], stddev=0.1))\n",
    "        B2 = tf.Variable(tf.ones([100]))\n",
    "\n",
    "        fc2 =  tf.add(tf.matmul(output_layer, W2), B2)\n",
    "        \n",
    "        #batch normalization before the activation function but after the linear transformation.\n",
    "        fc2_norm = tf.layers.batch_normalization(fc2, training=self.is_train)\n",
    "        fc2_actv = tf.nn.relu(fc2_norm)\n",
    "\n",
    "        W3 = tf.Variable(tf.truncated_normal([100, 10], stddev=0.1))\n",
    "        B3 = tf.Variable(tf.ones([10]))\n",
    "\n",
    "        self.logits = tf.add(tf.matmul(fc2_actv, W3), B3)\n",
    "\n",
    "        Y_pred = tf.nn.softmax(self.logits)\n",
    "    \n",
    "        self.loss = tf.reduce_mean(tf.nn.softmax_cross_entropy_with_logits(labels=self.y, logits=self.logits))\n",
    "        \n",
    "        update_ops = tf.get_collection(tf.GraphKeys.UPDATE_OPS) #IMPORTANT\n",
    "        with tf.control_dependencies(update_ops): #IMPORTANT\n",
    "            self.optimizer = tf.train.AdamOptimizer(learning_rate=learning_rate).minimize(self.loss)\n",
    "        correct_prediction = tf.equal(tf.argmax(self.logits, 1), tf.argmax(self.y, 1))\n",
    "        self.accuracy = tf.reduce_mean(tf.cast(correct_prediction, 'float'))"
   ]
  },
  {
   "cell_type": "markdown",
   "metadata": {},
   "source": [
    "### Graph for Model without Batch Normalization"
   ]
  },
  {
   "cell_type": "code",
   "execution_count": 7,
   "metadata": {},
   "outputs": [],
   "source": [
    "class Model_without_BN():\n",
    "           \n",
    "    \n",
    "    def __init__(self):\n",
    "    \n",
    "        self.x = tf.placeholder(tf.float32, [None, 28,28,1], name='inputs')\n",
    "        self.y = tf.placeholder(tf.float32, [None, 10], name='targets')\n",
    "\n",
    "        conv1 = tf.contrib.layers.conv2d(self.x, num_outputs=64, kernel_size=3, stride=1,padding='SAME', activation_fn=None)\n",
    "        \n",
    "        conv1_actv = tf.nn.relu(conv1)\n",
    "\n",
    "        conv2 = tf.contrib.layers.conv2d(conv1_actv, num_outputs=64, kernel_size=3, stride=2,padding='SAME', activation_fn=None)\n",
    "        \n",
    "        conv2_actv = tf.nn.relu(conv2)\n",
    "\n",
    "        output_size = 14*14*64\n",
    "        output_layer = tf.reshape(conv2_actv, (-1, output_size))\n",
    "\n",
    "\n",
    "        W2 = tf.Variable(tf.truncated_normal([output_size, 100], stddev=0.1))\n",
    "        B2 = tf.Variable(tf.ones([100]))\n",
    "\n",
    "        fc2 =  tf.add(tf.matmul(output_layer, W2), B2)\n",
    "    \n",
    "        fc2_actv = tf.nn.relu(fc2)\n",
    "\n",
    "        W3 = tf.Variable(tf.truncated_normal([100, 10], stddev=0.1))\n",
    "        B3 = tf.Variable(tf.ones([10]))\n",
    "\n",
    "        self.logits = tf.add(tf.matmul(fc2_actv, W3), B3)\n",
    "\n",
    "        Y_pred = tf.nn.softmax(self.logits)\n",
    "    \n",
    "        self.loss = tf.reduce_mean(tf.nn.softmax_cross_entropy_with_logits(labels=self.y, logits=self.logits))\n",
    "        self.optimizer = tf.train.AdamOptimizer(learning_rate=learning_rate).minimize(self.loss)\n",
    "        correct_prediction = tf.equal(tf.argmax(self.logits, 1), tf.argmax(self.y, 1))\n",
    "        self.accuracy = tf.reduce_mean(tf.cast(correct_prediction, 'float'))"
   ]
  },
  {
   "cell_type": "markdown",
   "metadata": {},
   "source": [
    "### Building the Batch Normalization Graph for training"
   ]
  },
  {
   "cell_type": "code",
   "execution_count": 8,
   "metadata": {},
   "outputs": [
    {
     "name": "stdout",
     "output_type": "stream",
     "text": [
      "WARNING:tensorflow:From <ipython-input-6-3fc60d3100d4>:44: softmax_cross_entropy_with_logits (from tensorflow.python.ops.nn_ops) is deprecated and will be removed in a future version.\n",
      "Instructions for updating:\n",
      "\n",
      "Future major versions of TensorFlow will allow gradients to flow\n",
      "into the labels input on backprop by default.\n",
      "\n",
      "See @{tf.nn.softmax_cross_entropy_with_logits_v2}.\n",
      "\n"
     ]
    }
   ],
   "source": [
    "tf.reset_default_graph()\n",
    "sess = tf.InteractiveSession()\n",
    "\n",
    "model_with_BN = Model_with_BN() #Load the model with Batch Normalization\n",
    "\n",
    "sess.run(tf.global_variables_initializer())"
   ]
  },
  {
   "cell_type": "markdown",
   "metadata": {},
   "source": [
    "### Training for Batch Normalization Graph"
   ]
  },
  {
   "cell_type": "code",
   "execution_count": 9,
   "metadata": {},
   "outputs": [
    {
     "name": "stdout",
     "output_type": "stream",
     "text": [
      "Epoch 0, loss 48.402, accuracy 0.925883\n",
      "Epoch 1, loss 10.1744, accuracy 0.9835\n",
      "Epoch 2, loss 5.88494, accuracy 0.990533\n",
      "Epoch 3, loss 3.7854, accuracy 0.99465\n",
      "Epoch 4, loss 2.46537, accuracy 0.997067\n",
      "Epoch 5, loss 1.55949, accuracy 0.99885\n",
      "Epoch 6, loss 1.04055, accuracy 0.999467\n"
     ]
    }
   ],
   "source": [
    "for epoch_idx in range(epoch):\n",
    "    \n",
    "    loss_total = 0\n",
    "    accuracy_total = 0\n",
    "    counter = 0\n",
    "    \n",
    "    for firstidx in range(0, images.shape[0], batch_size):\n",
    "        \n",
    "        finalidx = firstidx + batch_size\n",
    "        if finalidx >= images.shape[0] : finalidx = images.shape[0] #to prevent the index to be out of range.\n",
    "        \n",
    "        _, loss_val, accuracy_val = sess.run([model_with_BN.optimizer, model_with_BN.loss, model_with_BN.accuracy], \n",
    "                                              feed_dict={\n",
    "                                                        model_with_BN.x : images[firstidx:finalidx],\n",
    "                                                        model_with_BN.y : labels[firstidx:finalidx],\n",
    "                                                        model_with_BN.is_train : True\n",
    "                                                        })\n",
    "        loss_total += loss_val\n",
    "        accuracy_total += accuracy_val\n",
    "        counter += 1\n",
    "        \n",
    "    print(\"Epoch %d, loss %g, accuracy %g\"%(epoch_idx, loss_total, accuracy_total/counter))\n",
    "    acc_BN.append(accuracy_total/counter)\n",
    "    loss_BN.append(loss_total)\n",
    "        \n",
    "sess.close()"
   ]
  },
  {
   "cell_type": "markdown",
   "metadata": {},
   "source": [
    "### Building the Graph without Batch Normalization for training."
   ]
  },
  {
   "cell_type": "code",
   "execution_count": 10,
   "metadata": {},
   "outputs": [],
   "source": [
    "tf.reset_default_graph()\n",
    "sess = tf.InteractiveSession()\n",
    "\n",
    "model_without_BN = Model_without_BN() #load the model without Batch Normalization\n",
    "\n",
    "sess.run(tf.global_variables_initializer())"
   ]
  },
  {
   "cell_type": "markdown",
   "metadata": {},
   "source": [
    "### Training for Graph without Batch Normalization"
   ]
  },
  {
   "cell_type": "code",
   "execution_count": 11,
   "metadata": {},
   "outputs": [
    {
     "name": "stdout",
     "output_type": "stream",
     "text": [
      "Epoch 0, loss 300.931, accuracy 0.814917\n",
      "Epoch 1, loss 25.7765, accuracy 0.95005\n",
      "Epoch 2, loss 12.6847, accuracy 0.975633\n",
      "Epoch 3, loss 7.45723, accuracy 0.98585\n",
      "Epoch 4, loss 4.30756, accuracy 0.99225\n",
      "Epoch 5, loss 2.87161, accuracy 0.994533\n",
      "Epoch 6, loss 2.16186, accuracy 0.995517\n"
     ]
    }
   ],
   "source": [
    "for epoch_idx in range(epoch):\n",
    "    \n",
    "    loss_total = 0\n",
    "    accuracy_total = 0\n",
    "    counter = 0\n",
    "    \n",
    "    for firstidx in range(0, images.shape[0], batch_size):\n",
    "        \n",
    "        finalidx = firstidx + batch_size\n",
    "        if finalidx >= images.shape[0] : finalidx = images.shape[0] #to prevent the index to be out of range.\n",
    "        \n",
    "        _, loss_val, accuracy_val = sess.run([model_without_BN.optimizer, model_without_BN.loss, model_without_BN.accuracy], \n",
    "                                              feed_dict={\n",
    "                                                        model_without_BN.x : images[firstidx:finalidx],\n",
    "                                                        model_without_BN.y : labels[firstidx:finalidx]\n",
    "                                                        })\n",
    "        loss_total += loss_val\n",
    "        accuracy_total += accuracy_val\n",
    "        counter += 1\n",
    "        \n",
    "    print(\"Epoch %d, loss %g, accuracy %g\"%(epoch_idx, loss_total, accuracy_total/counter))\n",
    "    acc_noBN.append(accuracy_total/counter)\n",
    "    loss_noBN.append(loss_total)\n",
    "\n",
    "sess.close()"
   ]
  },
  {
   "cell_type": "markdown",
   "metadata": {},
   "source": [
    "### Comparison Graph"
   ]
  },
  {
   "cell_type": "code",
   "execution_count": 12,
   "metadata": {},
   "outputs": [],
   "source": [
    "x_axis    = [x for x in range(epoch)]"
   ]
  },
  {
   "cell_type": "code",
   "execution_count": 13,
   "metadata": {},
   "outputs": [
    {
     "data": {
      "image/png": "[encoded data removed]",
      "text/plain": [
       "<Figure size 432x288 with 1 Axes>"
      ]
     },
     "metadata": {
      "needs_background": "light"
     },
     "output_type": "display_data"
    }
   ],
   "source": [
    "#Graph Plotting for loss comparison\n",
    "plt.plot(x_axis, loss_BN,    'b--', label='With BN')\n",
    "plt.plot(x_axis, loss_noBN,  'r--', label='Without BN')\n",
    "plt.title(\"Loss comparison between a model with BN and the same model without BN during training\")\n",
    "plt.ylabel(\"Loss\")\n",
    "plt.xlabel(\"Epoch\")\n",
    "plt.legend()\n",
    "plt.show()"
   ]
  },
  {
   "cell_type": "code",
   "execution_count": 14,
   "metadata": {},
   "outputs": [
    {
     "data": {
      "image/png": "[encoded data removed]",
      "text/plain": [
       "<Figure size 432x288 with 1 Axes>"
      ]
     },
     "metadata": {
      "needs_background": "light"
     },
     "output_type": "display_data"
    }
   ],
   "source": [
    "#Graph Plotting for accuracy comparison\n",
    "plt.plot(x_axis, acc_BN,    'b--', label='With BN')\n",
    "plt.plot(x_axis, acc_noBN,  'r--', label='Without BN')\n",
    "plt.title(\"Accuracy comparison between a model with BN and the same model without BN during training\")\n",
    "plt.ylabel(\"Accuracy\")\n",
    "plt.xlabel(\"Epoch\")\n",
    "plt.legend()\n",
    "plt.show()"
   ]
  }
 ],
 "metadata": {
  "kernelspec": {
   "display_name": "nasa",
   "language": "python",
   "name": "nasa"
  },
  "language_info": {
   "codemirror_mode": {
    "name": "ipython",
    "version": 3
   },
   "file_extension": ".py",
   "mimetype": "text/x-python",
   "name": "python",
   "nbconvert_exporter": "python",
   "pygments_lexer": "ipython3",
   "version": "3.5.2"
  }
 },
 "nbformat": 4,
 "nbformat_minor": 2
}
