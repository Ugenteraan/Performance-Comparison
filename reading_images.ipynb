{
 "cells": [
  {
   "cell_type": "markdown",
   "metadata": {},
   "source": [
    "# Reading image files from disk and storing into numpy array"
   ]
  },
  {
   "cell_type": "markdown",
   "metadata": {},
   "source": [
    "## Comparison between using _OpenCV_, _Matplotlib_, _HDF5_ and _LMDB_"
   ]
  },
  {
   "cell_type": "code",
   "execution_count": 1,
   "metadata": {},
   "outputs": [],
   "source": [
    "import csv\n",
    "import time\n",
    "import numpy as np\n",
    "import timeit"
   ]
  },
  {
   "cell_type": "code",
   "execution_count": 2,
   "metadata": {},
   "outputs": [
    {
     "name": "stdout",
     "output_type": "stream",
     "text": [
      "Column names are File_path and Label \n",
      "A total of 60000 lines were inserted in the list\n"
     ]
    }
   ],
   "source": [
    "csv_file_path = 'MNIST_images/info.csv' \n",
    "timeit_number = 100\n",
    "\n",
    "file_label_list = list()\n",
    "\n",
    "with open(csv_file_path) as csvFile: #open the csv file\n",
    "    \n",
    "    reader = csv.reader(csvFile)    \n",
    "    line_count = 0\n",
    "    \n",
    "    for row in reader: \n",
    "        \n",
    "        if line_count == 0: #first row\n",
    "            \n",
    "            line_count += 1\n",
    "            print(\"Column names are %s and %s \"%(str(row[0]), str(row[1])))\n",
    "            \n",
    "        else:\n",
    "            \n",
    "            file_label_list.append(row) #store the path and label in the 'file_label_list' as lists\n",
    "            line_count += 1 \n",
    "            \n",
    "    total_image_files = line_count -1 #-1 for the head   \n",
    "    print(\"A total of %d lines were inserted in the list\"%(total_image_files)) \n",
    "    \n"
   ]
  },
  {
   "cell_type": "markdown",
   "metadata": {},
   "source": [
    "### Using _OpenCV_"
   ]
  },
  {
   "cell_type": "code",
   "execution_count": 3,
   "metadata": {},
   "outputs": [],
   "source": [
    "import cv2"
   ]
  },
  {
   "cell_type": "code",
   "execution_count": 4,
   "metadata": {},
   "outputs": [],
   "source": [
    "def read_cv2(filepath):\n",
    "    '''Reads an image using cv2 in grayscale mode.\n",
    "       Returns the image in np array.\n",
    "       Parameter\n",
    "       ---------\n",
    "       filepath : an image file's path\n",
    "    '''\n",
    "    return cv2.imread(filepath, 0) #read the image in grayscale"
   ]
  },
  {
   "cell_type": "code",
   "execution_count": 5,
   "metadata": {},
   "outputs": [],
   "source": [
    "#function to read the images using opencv\n",
    "def run_cv2_code():\n",
    "    \n",
    "    np_arr = np.empty([total_image_files, 28, 28]) #create empty array of shape (60000,28,28) \n",
    "    \n",
    "    for i in range(total_image_files):\n",
    "        np_arr[i] = read_cv2(file_label_list[i][0]) #assign the numpy array of specific index with the image array"
   ]
  },
  {
   "cell_type": "code",
   "execution_count": 6,
   "metadata": {},
   "outputs": [],
   "source": [
    "time_cv2 = timeit.timeit(run_cv2_code,\n",
    "                     number = timeit_number) #using timeit to run the function and get the total time to run it 'number' times"
   ]
  },
  {
   "cell_type": "code",
   "execution_count": 7,
   "metadata": {},
   "outputs": [
    {
     "name": "stdout",
     "output_type": "stream",
     "text": [
      "The average time it takes to read the images using OpenCV is : 1.97192\n"
     ]
    }
   ],
   "source": [
    "print(\"The average time it takes to read the images using OpenCV is : %g\"%(time_cv2/timeit_number))"
   ]
  },
  {
   "cell_type": "markdown",
   "metadata": {},
   "source": [
    "### Using _Matplotlib_"
   ]
  },
  {
   "cell_type": "code",
   "execution_count": 8,
   "metadata": {},
   "outputs": [],
   "source": [
    "import matplotlib.pyplot as plt"
   ]
  },
  {
   "cell_type": "code",
   "execution_count": 9,
   "metadata": {},
   "outputs": [],
   "source": [
    "def read_plt(filepath):\n",
    "    '''Reads an image using matplotlib.\n",
    "       Returns the image in np array format.\n",
    "       Parameter\n",
    "       ---------\n",
    "       flepath : an image file's path\n",
    "    '''\n",
    "    return plt.imread(filepath)"
   ]
  },
  {
   "cell_type": "code",
   "execution_count": 10,
   "metadata": {},
   "outputs": [],
   "source": [
    "def run_plt_code():\n",
    "    \n",
    "    np_arr = np.empty([total_image_files, 28, 28]) #create empty array of shape (60000,28,28)\n",
    "    \n",
    "    for i in range(total_image_files):\n",
    "        np_arr[i] = read_plt(file_label_list[i][0]) #assign the numpy array of specific index with the image array"
   ]
  },
  {
   "cell_type": "code",
   "execution_count": 11,
   "metadata": {},
   "outputs": [],
   "source": [
    "time_plt = timeit.timeit(run_plt_code,\n",
    "                     number = timeit_number) #using timeit to run the function and get the total time to run it 'number' times"
   ]
  },
  {
   "cell_type": "code",
   "execution_count": 12,
   "metadata": {},
   "outputs": [
    {
     "name": "stdout",
     "output_type": "stream",
     "text": [
      "The average time it takes to read the images using Matplotlib is : 7.3618\n"
     ]
    }
   ],
   "source": [
    "print(\"The average time it takes to read the images using Matplotlib is : %g\"%(time_plt/timeit_number))"
   ]
  },
  {
   "cell_type": "markdown",
   "metadata": {},
   "source": [
    "### Using HDF5"
   ]
  },
  {
   "cell_type": "code",
   "execution_count": null,
   "metadata": {},
   "outputs": [],
   "source": [
    "import h"
   ]
  }
 ],
 "metadata": {
  "kernelspec": {
   "display_name": "nasa",
   "language": "python",
   "name": "nasa"
  },
  "language_info": {
   "codemirror_mode": {
    "name": "ipython",
    "version": 3
   },
   "file_extension": ".py",
   "mimetype": "text/x-python",
   "name": "python",
   "nbconvert_exporter": "python",
   "pygments_lexer": "ipython3",
   "version": "3.5.2"
  }
 },
 "nbformat": 4,
 "nbformat_minor": 2
}
